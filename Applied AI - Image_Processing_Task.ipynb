{
  "cells": [
    {
      "cell_type": "markdown",
      "source": [
        "**Introductions:**\n",
        "\n",
        "The investigation will utilise image recognition programming capable of identifying various elements within digital photographs, such as people, places, objects, and actions. In this case, machine learning algorithms will be employed to automate the process, using the provided dataset to discern whether an image is a dog or a cat. For a successful outcome, the models must undergo training to achieve high accuracy. The task will incorporate several key techniques: feature extraction, classification, pre-processing, image acquisition, and post-processing.\n"
      ],
      "metadata": {
        "id": "BweJge8m5MaO"
      }
    },
    {
      "cell_type": "code",
      "execution_count": 1,
      "metadata": {
        "id": "xjDEVHRLX3mf"
      },
      "outputs": [],
      "source": [
        "# import libraries\n",
        "import os\n",
        "import pandas as pd\n",
        "import numpy as np\n",
        "from tqdm import tqdm\n",
        "\n",
        "import tensorflow as tf\n",
        "\n",
        "import torch\n",
        "import torch.nn as nn\n",
        "import torch.optim as optim\n",
        "from torch.utils.data import DataLoader\n",
        "from torchvision import datasets, transforms\n",
        "\n",
        "from sklearn.model_selection import train_test_split\n",
        "from sklearn.ensemble import RandomForestClassifier\n",
        "from sklearn.tree import DecisionTreeClassifier\n",
        "from sklearn.metrics import classification_report\n",
        "from sklearn.metrics import accuracy_score\n",
        "from skimage.feature import hog\n",
        "\n",
        "import cv2\n",
        "from skimage.feature import hog\n",
        "\n",
        "from sklearn.model_selection import train_test_split\n",
        "\n",
        "from sklearn.decomposition import PCA\n",
        "\n",
        "# libraries for data plotting\n",
        "import seaborn as sns\n",
        "import matplotlib.pyplot as plt\n",
        "\n",
        "# library for evaluation\n",
        "from sklearn import metrics\n",
        "from sklearn.metrics import ConfusionMatrixDisplay\n",
        "\n",
        "# libraries for ML algorithms\n",
        "from sklearn import svm\n",
        "\n",
        "from random import randint\n",
        "from random import seed\n",
        "\n",
        "RANDOM_SEED = 100\n",
        "\n",
        "\n",
        "\n",
        "\n",
        "\n"
      ]
    },
    {
      "cell_type": "markdown",
      "source": [
        "**Setting Up Drive and Files**:"
      ],
      "metadata": {
        "id": "bJw1GrAU14Mg"
      }
    },
    {
      "cell_type": "code",
      "execution_count": 2,
      "metadata": {
        "colab": {
          "base_uri": "https://localhost:8080/"
        },
        "id": "DAQn883yXovG",
        "outputId": "ab4cec52-d883-4552-86ed-0725ab775d36"
      },
      "outputs": [
        {
          "output_type": "stream",
          "name": "stdout",
          "text": [
            "Mounted at /content/drive\n"
          ]
        }
      ],
      "source": [
        "from google.colab import drive\n",
        "drive.mount('/content/drive')"
      ]
    },
    {
      "cell_type": "code",
      "execution_count": null,
      "metadata": {
        "id": "WFHhCIVcZfGF",
        "colab": {
          "base_uri": "https://localhost:8080/",
          "height": 373
        },
        "outputId": "b108bb7c-4d89-4a21-da8f-7e85652bfb57"
      },
      "outputs": [
        {
          "output_type": "error",
          "ename": "KeyboardInterrupt",
          "evalue": "",
          "traceback": [
            "\u001b[0;31m---------------------------------------------------------------------------\u001b[0m",
            "\u001b[0;31mKeyboardInterrupt\u001b[0m                         Traceback (most recent call last)",
            "\u001b[0;32m<ipython-input-4-0a026fd6cc70>\u001b[0m in \u001b[0;36m<cell line: 3>\u001b[0;34m()\u001b[0m\n\u001b[1;32m      1\u001b[0m \u001b[0;31m# unzip file\u001b[0m\u001b[0;34m\u001b[0m\u001b[0;34m\u001b[0m\u001b[0m\n\u001b[1;32m      2\u001b[0m \u001b[0;32mimport\u001b[0m \u001b[0mshutil\u001b[0m\u001b[0;34m\u001b[0m\u001b[0;34m\u001b[0m\u001b[0m\n\u001b[0;32m----> 3\u001b[0;31m \u001b[0mshutil\u001b[0m\u001b[0;34m.\u001b[0m\u001b[0munpack_archive\u001b[0m\u001b[0;34m(\u001b[0m\u001b[0;34m'/content/drive/MyDrive/MSc AI Work Folder/Applied AI/Week1 - Natural Language Processing/Image Processing /Image Processing Data .zip'\u001b[0m\u001b[0;34m,\u001b[0m \u001b[0;34m'/content/drive/MyDrive/MSc AI Work Folder/Applied AI/Week1 - Natural Language Processing/Image Processin'\u001b[0m\u001b[0;34m)\u001b[0m\u001b[0;34m\u001b[0m\u001b[0;34m\u001b[0m\u001b[0m\n\u001b[0m",
            "\u001b[0;32m/usr/lib/python3.10/shutil.py\u001b[0m in \u001b[0;36munpack_archive\u001b[0;34m(filename, extract_dir, format, filter)\u001b[0m\n\u001b[1;32m   1312\u001b[0m         \u001b[0mfunc\u001b[0m \u001b[0;34m=\u001b[0m \u001b[0m_UNPACK_FORMATS\u001b[0m\u001b[0;34m[\u001b[0m\u001b[0mformat\u001b[0m\u001b[0;34m]\u001b[0m\u001b[0;34m[\u001b[0m\u001b[0;36m1\u001b[0m\u001b[0;34m]\u001b[0m\u001b[0;34m\u001b[0m\u001b[0;34m\u001b[0m\u001b[0m\n\u001b[1;32m   1313\u001b[0m         \u001b[0mkwargs\u001b[0m \u001b[0;34m=\u001b[0m \u001b[0mdict\u001b[0m\u001b[0;34m(\u001b[0m\u001b[0m_UNPACK_FORMATS\u001b[0m\u001b[0;34m[\u001b[0m\u001b[0mformat\u001b[0m\u001b[0;34m]\u001b[0m\u001b[0;34m[\u001b[0m\u001b[0;36m2\u001b[0m\u001b[0;34m]\u001b[0m\u001b[0;34m)\u001b[0m \u001b[0;34m|\u001b[0m \u001b[0mfilter_kwargs\u001b[0m\u001b[0;34m\u001b[0m\u001b[0;34m\u001b[0m\u001b[0m\n\u001b[0;32m-> 1314\u001b[0;31m         \u001b[0mfunc\u001b[0m\u001b[0;34m(\u001b[0m\u001b[0mfilename\u001b[0m\u001b[0;34m,\u001b[0m \u001b[0mextract_dir\u001b[0m\u001b[0;34m,\u001b[0m \u001b[0;34m**\u001b[0m\u001b[0mkwargs\u001b[0m\u001b[0;34m)\u001b[0m\u001b[0;34m\u001b[0m\u001b[0;34m\u001b[0m\u001b[0m\n\u001b[0m\u001b[1;32m   1315\u001b[0m \u001b[0;34m\u001b[0m\u001b[0m\n\u001b[1;32m   1316\u001b[0m \u001b[0;34m\u001b[0m\u001b[0m\n",
            "\u001b[0;32m/usr/lib/python3.10/shutil.py\u001b[0m in \u001b[0;36m_unpack_zipfile\u001b[0;34m(filename, extract_dir)\u001b[0m\n\u001b[1;32m   1217\u001b[0m             \u001b[0;32mif\u001b[0m \u001b[0;32mnot\u001b[0m \u001b[0mname\u001b[0m\u001b[0;34m.\u001b[0m\u001b[0mendswith\u001b[0m\u001b[0;34m(\u001b[0m\u001b[0;34m'/'\u001b[0m\u001b[0;34m)\u001b[0m\u001b[0;34m:\u001b[0m\u001b[0;34m\u001b[0m\u001b[0;34m\u001b[0m\u001b[0m\n\u001b[1;32m   1218\u001b[0m                 \u001b[0;31m# file\u001b[0m\u001b[0;34m\u001b[0m\u001b[0;34m\u001b[0m\u001b[0m\n\u001b[0;32m-> 1219\u001b[0;31m                 \u001b[0;32mwith\u001b[0m \u001b[0mzip\u001b[0m\u001b[0;34m.\u001b[0m\u001b[0mopen\u001b[0m\u001b[0;34m(\u001b[0m\u001b[0mname\u001b[0m\u001b[0;34m,\u001b[0m \u001b[0;34m'r'\u001b[0m\u001b[0;34m)\u001b[0m \u001b[0;32mas\u001b[0m \u001b[0msource\u001b[0m\u001b[0;34m,\u001b[0m\u001b[0;31m \u001b[0m\u001b[0;31m\\\u001b[0m\u001b[0;34m\u001b[0m\u001b[0;34m\u001b[0m\u001b[0m\n\u001b[0m\u001b[1;32m   1220\u001b[0m                         \u001b[0mopen\u001b[0m\u001b[0;34m(\u001b[0m\u001b[0mtargetpath\u001b[0m\u001b[0;34m,\u001b[0m \u001b[0;34m'wb'\u001b[0m\u001b[0;34m)\u001b[0m \u001b[0;32mas\u001b[0m \u001b[0mtarget\u001b[0m\u001b[0;34m:\u001b[0m\u001b[0;34m\u001b[0m\u001b[0;34m\u001b[0m\u001b[0m\n\u001b[1;32m   1221\u001b[0m                     \u001b[0mcopyfileobj\u001b[0m\u001b[0;34m(\u001b[0m\u001b[0msource\u001b[0m\u001b[0;34m,\u001b[0m \u001b[0mtarget\u001b[0m\u001b[0;34m)\u001b[0m\u001b[0;34m\u001b[0m\u001b[0;34m\u001b[0m\u001b[0m\n",
            "\u001b[0;31mKeyboardInterrupt\u001b[0m: "
          ]
        }
      ],
      "source": [
        "# unzip file\n",
        "import shutil\n",
        "shutil.unpack_archive('/content/drive/MyDrive/MSc AI Work Folder/Applied AI/Week1 - Natural Language Processing/Image Processing /Image Processing Data .zip', '/content/drive/MyDrive/MSc AI Work Folder/Applied AI/Week1 - Natural Language Processing/Image Processin')"
      ]
    },
    {
      "cell_type": "code",
      "execution_count": 3,
      "metadata": {
        "id": "nxsgBvfjbDSx"
      },
      "outputs": [],
      "source": [
        "data_folder = '/content/drive/MyDrive/MSc AI Work Folder/Applied AI/Week1 - Natural Language Processing/Image Processin'"
      ]
    },
    {
      "cell_type": "code",
      "execution_count": 4,
      "metadata": {
        "id": "YaaaUXP9cFb8"
      },
      "outputs": [],
      "source": [
        "# Loading training data\n",
        "df_train = pd.read_csv(os.path.join(data_folder, 'train.csv'))\n",
        "\n",
        "# Loading testing data\n",
        "df_test = pd.read_csv(os.path.join(data_folder, 'test.csv'))\n"
      ]
    },
    {
      "cell_type": "code",
      "execution_count": 5,
      "metadata": {
        "colab": {
          "base_uri": "https://localhost:8080/"
        },
        "id": "pZzHg0_qchFo",
        "outputId": "fecd5f09-bf36-4094-f3dd-c53b326aa17d"
      },
      "outputs": [
        {
          "output_type": "stream",
          "name": "stdout",
          "text": [
            "Number of entries: 10000\n"
          ]
        }
      ],
      "source": [
        "# A summary of details\n",
        "print(f'Number of entries: {len(df_train)}')"
      ]
    },
    {
      "cell_type": "code",
      "execution_count": 6,
      "metadata": {
        "colab": {
          "base_uri": "https://localhost:8080/",
          "height": 206
        },
        "id": "Vc7M6eODdA4X",
        "outputId": "708e2495-6512-4aa4-a2f8-192e04e713f3"
      },
      "outputs": [
        {
          "output_type": "execute_result",
          "data": {
            "text/plain": [
              "   id label\n",
              "0   1   cat\n",
              "1   2   dog\n",
              "2   3   cat\n",
              "3   4   cat\n",
              "4   5   cat"
            ],
            "text/html": [
              "\n",
              "  <div id=\"df-75bb125d-50c6-4a41-b7d4-4c3725cbcc34\" class=\"colab-df-container\">\n",
              "    <div>\n",
              "<style scoped>\n",
              "    .dataframe tbody tr th:only-of-type {\n",
              "        vertical-align: middle;\n",
              "    }\n",
              "\n",
              "    .dataframe tbody tr th {\n",
              "        vertical-align: top;\n",
              "    }\n",
              "\n",
              "    .dataframe thead th {\n",
              "        text-align: right;\n",
              "    }\n",
              "</style>\n",
              "<table border=\"1\" class=\"dataframe\">\n",
              "  <thead>\n",
              "    <tr style=\"text-align: right;\">\n",
              "      <th></th>\n",
              "      <th>id</th>\n",
              "      <th>label</th>\n",
              "    </tr>\n",
              "  </thead>\n",
              "  <tbody>\n",
              "    <tr>\n",
              "      <th>0</th>\n",
              "      <td>1</td>\n",
              "      <td>cat</td>\n",
              "    </tr>\n",
              "    <tr>\n",
              "      <th>1</th>\n",
              "      <td>2</td>\n",
              "      <td>dog</td>\n",
              "    </tr>\n",
              "    <tr>\n",
              "      <th>2</th>\n",
              "      <td>3</td>\n",
              "      <td>cat</td>\n",
              "    </tr>\n",
              "    <tr>\n",
              "      <th>3</th>\n",
              "      <td>4</td>\n",
              "      <td>cat</td>\n",
              "    </tr>\n",
              "    <tr>\n",
              "      <th>4</th>\n",
              "      <td>5</td>\n",
              "      <td>cat</td>\n",
              "    </tr>\n",
              "  </tbody>\n",
              "</table>\n",
              "</div>\n",
              "    <div class=\"colab-df-buttons\">\n",
              "\n",
              "  <div class=\"colab-df-container\">\n",
              "    <button class=\"colab-df-convert\" onclick=\"convertToInteractive('df-75bb125d-50c6-4a41-b7d4-4c3725cbcc34')\"\n",
              "            title=\"Convert this dataframe to an interactive table.\"\n",
              "            style=\"display:none;\">\n",
              "\n",
              "  <svg xmlns=\"http://www.w3.org/2000/svg\" height=\"24px\" viewBox=\"0 -960 960 960\">\n",
              "    <path d=\"M120-120v-720h720v720H120Zm60-500h600v-160H180v160Zm220 220h160v-160H400v160Zm0 220h160v-160H400v160ZM180-400h160v-160H180v160Zm440 0h160v-160H620v160ZM180-180h160v-160H180v160Zm440 0h160v-160H620v160Z\"/>\n",
              "  </svg>\n",
              "    </button>\n",
              "\n",
              "  <style>\n",
              "    .colab-df-container {\n",
              "      display:flex;\n",
              "      gap: 12px;\n",
              "    }\n",
              "\n",
              "    .colab-df-convert {\n",
              "      background-color: #E8F0FE;\n",
              "      border: none;\n",
              "      border-radius: 50%;\n",
              "      cursor: pointer;\n",
              "      display: none;\n",
              "      fill: #1967D2;\n",
              "      height: 32px;\n",
              "      padding: 0 0 0 0;\n",
              "      width: 32px;\n",
              "    }\n",
              "\n",
              "    .colab-df-convert:hover {\n",
              "      background-color: #E2EBFA;\n",
              "      box-shadow: 0px 1px 2px rgba(60, 64, 67, 0.3), 0px 1px 3px 1px rgba(60, 64, 67, 0.15);\n",
              "      fill: #174EA6;\n",
              "    }\n",
              "\n",
              "    .colab-df-buttons div {\n",
              "      margin-bottom: 4px;\n",
              "    }\n",
              "\n",
              "    [theme=dark] .colab-df-convert {\n",
              "      background-color: #3B4455;\n",
              "      fill: #D2E3FC;\n",
              "    }\n",
              "\n",
              "    [theme=dark] .colab-df-convert:hover {\n",
              "      background-color: #434B5C;\n",
              "      box-shadow: 0px 1px 3px 1px rgba(0, 0, 0, 0.15);\n",
              "      filter: drop-shadow(0px 1px 2px rgba(0, 0, 0, 0.3));\n",
              "      fill: #FFFFFF;\n",
              "    }\n",
              "  </style>\n",
              "\n",
              "    <script>\n",
              "      const buttonEl =\n",
              "        document.querySelector('#df-75bb125d-50c6-4a41-b7d4-4c3725cbcc34 button.colab-df-convert');\n",
              "      buttonEl.style.display =\n",
              "        google.colab.kernel.accessAllowed ? 'block' : 'none';\n",
              "\n",
              "      async function convertToInteractive(key) {\n",
              "        const element = document.querySelector('#df-75bb125d-50c6-4a41-b7d4-4c3725cbcc34');\n",
              "        const dataTable =\n",
              "          await google.colab.kernel.invokeFunction('convertToInteractive',\n",
              "                                                    [key], {});\n",
              "        if (!dataTable) return;\n",
              "\n",
              "        const docLinkHtml = 'Like what you see? Visit the ' +\n",
              "          '<a target=\"_blank\" href=https://colab.research.google.com/notebooks/data_table.ipynb>data table notebook</a>'\n",
              "          + ' to learn more about interactive tables.';\n",
              "        element.innerHTML = '';\n",
              "        dataTable['output_type'] = 'display_data';\n",
              "        await google.colab.output.renderOutput(dataTable, element);\n",
              "        const docLink = document.createElement('div');\n",
              "        docLink.innerHTML = docLinkHtml;\n",
              "        element.appendChild(docLink);\n",
              "      }\n",
              "    </script>\n",
              "  </div>\n",
              "\n",
              "\n",
              "<div id=\"df-925d398c-32d2-4213-b772-a647f431b92b\">\n",
              "  <button class=\"colab-df-quickchart\" onclick=\"quickchart('df-925d398c-32d2-4213-b772-a647f431b92b')\"\n",
              "            title=\"Suggest charts\"\n",
              "            style=\"display:none;\">\n",
              "\n",
              "<svg xmlns=\"http://www.w3.org/2000/svg\" height=\"24px\"viewBox=\"0 0 24 24\"\n",
              "     width=\"24px\">\n",
              "    <g>\n",
              "        <path d=\"M19 3H5c-1.1 0-2 .9-2 2v14c0 1.1.9 2 2 2h14c1.1 0 2-.9 2-2V5c0-1.1-.9-2-2-2zM9 17H7v-7h2v7zm4 0h-2V7h2v10zm4 0h-2v-4h2v4z\"/>\n",
              "    </g>\n",
              "</svg>\n",
              "  </button>\n",
              "\n",
              "<style>\n",
              "  .colab-df-quickchart {\n",
              "      --bg-color: #E8F0FE;\n",
              "      --fill-color: #1967D2;\n",
              "      --hover-bg-color: #E2EBFA;\n",
              "      --hover-fill-color: #174EA6;\n",
              "      --disabled-fill-color: #AAA;\n",
              "      --disabled-bg-color: #DDD;\n",
              "  }\n",
              "\n",
              "  [theme=dark] .colab-df-quickchart {\n",
              "      --bg-color: #3B4455;\n",
              "      --fill-color: #D2E3FC;\n",
              "      --hover-bg-color: #434B5C;\n",
              "      --hover-fill-color: #FFFFFF;\n",
              "      --disabled-bg-color: #3B4455;\n",
              "      --disabled-fill-color: #666;\n",
              "  }\n",
              "\n",
              "  .colab-df-quickchart {\n",
              "    background-color: var(--bg-color);\n",
              "    border: none;\n",
              "    border-radius: 50%;\n",
              "    cursor: pointer;\n",
              "    display: none;\n",
              "    fill: var(--fill-color);\n",
              "    height: 32px;\n",
              "    padding: 0;\n",
              "    width: 32px;\n",
              "  }\n",
              "\n",
              "  .colab-df-quickchart:hover {\n",
              "    background-color: var(--hover-bg-color);\n",
              "    box-shadow: 0 1px 2px rgba(60, 64, 67, 0.3), 0 1px 3px 1px rgba(60, 64, 67, 0.15);\n",
              "    fill: var(--button-hover-fill-color);\n",
              "  }\n",
              "\n",
              "  .colab-df-quickchart-complete:disabled,\n",
              "  .colab-df-quickchart-complete:disabled:hover {\n",
              "    background-color: var(--disabled-bg-color);\n",
              "    fill: var(--disabled-fill-color);\n",
              "    box-shadow: none;\n",
              "  }\n",
              "\n",
              "  .colab-df-spinner {\n",
              "    border: 2px solid var(--fill-color);\n",
              "    border-color: transparent;\n",
              "    border-bottom-color: var(--fill-color);\n",
              "    animation:\n",
              "      spin 1s steps(1) infinite;\n",
              "  }\n",
              "\n",
              "  @keyframes spin {\n",
              "    0% {\n",
              "      border-color: transparent;\n",
              "      border-bottom-color: var(--fill-color);\n",
              "      border-left-color: var(--fill-color);\n",
              "    }\n",
              "    20% {\n",
              "      border-color: transparent;\n",
              "      border-left-color: var(--fill-color);\n",
              "      border-top-color: var(--fill-color);\n",
              "    }\n",
              "    30% {\n",
              "      border-color: transparent;\n",
              "      border-left-color: var(--fill-color);\n",
              "      border-top-color: var(--fill-color);\n",
              "      border-right-color: var(--fill-color);\n",
              "    }\n",
              "    40% {\n",
              "      border-color: transparent;\n",
              "      border-right-color: var(--fill-color);\n",
              "      border-top-color: var(--fill-color);\n",
              "    }\n",
              "    60% {\n",
              "      border-color: transparent;\n",
              "      border-right-color: var(--fill-color);\n",
              "    }\n",
              "    80% {\n",
              "      border-color: transparent;\n",
              "      border-right-color: var(--fill-color);\n",
              "      border-bottom-color: var(--fill-color);\n",
              "    }\n",
              "    90% {\n",
              "      border-color: transparent;\n",
              "      border-bottom-color: var(--fill-color);\n",
              "    }\n",
              "  }\n",
              "</style>\n",
              "\n",
              "  <script>\n",
              "    async function quickchart(key) {\n",
              "      const quickchartButtonEl =\n",
              "        document.querySelector('#' + key + ' button');\n",
              "      quickchartButtonEl.disabled = true;  // To prevent multiple clicks.\n",
              "      quickchartButtonEl.classList.add('colab-df-spinner');\n",
              "      try {\n",
              "        const charts = await google.colab.kernel.invokeFunction(\n",
              "            'suggestCharts', [key], {});\n",
              "      } catch (error) {\n",
              "        console.error('Error during call to suggestCharts:', error);\n",
              "      }\n",
              "      quickchartButtonEl.classList.remove('colab-df-spinner');\n",
              "      quickchartButtonEl.classList.add('colab-df-quickchart-complete');\n",
              "    }\n",
              "    (() => {\n",
              "      let quickchartButtonEl =\n",
              "        document.querySelector('#df-925d398c-32d2-4213-b772-a647f431b92b button');\n",
              "      quickchartButtonEl.style.display =\n",
              "        google.colab.kernel.accessAllowed ? 'block' : 'none';\n",
              "    })();\n",
              "  </script>\n",
              "</div>\n",
              "    </div>\n",
              "  </div>\n"
            ],
            "application/vnd.google.colaboratory.intrinsic+json": {
              "type": "dataframe",
              "variable_name": "df_train",
              "summary": "{\n  \"name\": \"df_train\",\n  \"rows\": 10000,\n  \"fields\": [\n    {\n      \"column\": \"id\",\n      \"properties\": {\n        \"dtype\": \"number\",\n        \"std\": 2886,\n        \"min\": 1,\n        \"max\": 10000,\n        \"num_unique_values\": 10000,\n        \"samples\": [\n          6253,\n          4685,\n          1732\n        ],\n        \"semantic_type\": \"\",\n        \"description\": \"\"\n      }\n    },\n    {\n      \"column\": \"label\",\n      \"properties\": {\n        \"dtype\": \"category\",\n        \"num_unique_values\": 2,\n        \"samples\": [\n          \"dog\",\n          \"cat\"\n        ],\n        \"semantic_type\": \"\",\n        \"description\": \"\"\n      }\n    }\n  ]\n}"
            }
          },
          "metadata": {},
          "execution_count": 6
        }
      ],
      "source": [
        "# Viewing the first 5 rows of dataset\n",
        "df_train.head()"
      ]
    },
    {
      "cell_type": "code",
      "execution_count": 7,
      "metadata": {
        "colab": {
          "base_uri": "https://localhost:8080/"
        },
        "id": "2ScL_vWXtyxi",
        "outputId": "6afd9177-2754-4612-ee2d-4a5cd4824cd3"
      },
      "outputs": [
        {
          "output_type": "stream",
          "name": "stdout",
          "text": [
            "Number of entries: 1000\n"
          ]
        }
      ],
      "source": [
        "# Viewing the first 5 rows of dataset\n",
        "df_test.head()\n",
        "\n",
        "print(f'Number of entries: {len(df_test)}')"
      ]
    },
    {
      "cell_type": "code",
      "execution_count": 8,
      "metadata": {
        "colab": {
          "base_uri": "https://localhost:8080/",
          "height": 466
        },
        "id": "R5RxfEX1dTtX",
        "outputId": "b25ac6b1-2470-4add-c187-d44b82b3dc8d"
      },
      "outputs": [
        {
          "output_type": "execute_result",
          "data": {
            "text/plain": [
              "<Axes: xlabel='label', ylabel='count'>"
            ]
          },
          "metadata": {},
          "execution_count": 8
        },
        {
          "output_type": "display_data",
          "data": {
            "text/plain": [
              "<Figure size 640x480 with 1 Axes>"
            ],
            "image/png": "[encoded data removed]"
          },
          "metadata": {}
        }
      ],
      "source": [
        "# Viewing label details in training data\n",
        "sns.countplot(x=df_train['label'])"
      ]
    },
    {
      "cell_type": "markdown",
      "source": [
        "In this image processing study, we wanted to create a model that could identify between cat and dog images. Our first step was to examine the photos and ensure they were properly prepared for analysis. To accomplish this, we turned the photographs to grayscale, which simplifies the input for the model, and normalised the lighting to emphasise key elements in each image."
      ],
      "metadata": {
        "id": "j8BbEgjxIsyY"
      }
    },
    {
      "cell_type": "markdown",
      "source": [
        "**Upload the images**"
      ],
      "metadata": {
        "id": "QIZWJ8WPwoAz"
      }
    },
    {
      "cell_type": "code",
      "execution_count": 10,
      "metadata": {
        "id": "ihQijjmibPXj"
      },
      "outputs": [],
      "source": [
        "# loading images in a folder\n",
        "def load_images(ids, folder_path, dim=None):\n",
        "  '''\n",
        "  ids: list of image ids\n",
        "  folder_path: path to image folder\n",
        "  dim: dimensions to resize images (optional)\n",
        "  '''\n",
        "  images = []\n",
        "  for id in tqdm(ids):\n",
        "    image_path = os.path.join(folder_path, f'{id}.jpg')\n",
        "    img = cv2.imread(image_path)\n",
        "\n",
        "    # Image shape\n",
        "    if dim is not None:\n",
        "      if img.shape[0] != dim[1] or img.shape[1] != dim[0]:\n",
        "        img = cv2.resize(img, dim)\n",
        "    images.append(img)\n",
        "  return images"
      ]
    },
    {
      "cell_type": "code",
      "execution_count": 11,
      "metadata": {
        "colab": {
          "base_uri": "https://localhost:8080/"
        },
        "id": "P6A4kYNIgAEB",
        "outputId": "08932c84-fee0-4517-dca6-6fa77168be3c"
      },
      "outputs": [
        {
          "output_type": "stream",
          "name": "stderr",
          "text": [
            "100%|██████████| 10000/10000 [43:32<00:00,  3.83it/s]\n"
          ]
        },
        {
          "output_type": "stream",
          "name": "stdout",
          "text": [
            "Number of training images loaded: 10000\n"
          ]
        },
        {
          "output_type": "stream",
          "name": "stderr",
          "text": [
            "100%|██████████| 1000/1000 [04:02<00:00,  4.12it/s]"
          ]
        },
        {
          "output_type": "stream",
          "name": "stdout",
          "text": [
            "Number of testing images loaded: 1000\n"
          ]
        },
        {
          "output_type": "stream",
          "name": "stderr",
          "text": [
            "\n"
          ]
        }
      ],
      "source": [
        "base_dim = (200, 200)\n",
        "\n",
        "# load train images\n",
        "train_image_folder = os.path.join(data_folder, 'train_images')\n",
        "train_images = load_images(df_train['id'], train_image_folder, base_dim)\n",
        "print(f'Number of training images loaded: {len(train_images)}')\n",
        "\n",
        "# load test images\n",
        "test_image_folder = os.path.join(data_folder, 'test_images')\n",
        "test_images = load_images(df_test['id'], test_image_folder, base_dim)\n",
        "print(f'Number of testing images loaded: {len(test_images)}')"
      ]
    },
    {
      "cell_type": "markdown",
      "source": [
        "We then focused on selecting characteristics from these images that could help the model identify patterns indicative of each class. We used the Histogram of Oriented Gradients (HOG) technique for its effectiveness in detecting edge details, and we reduced the data dimension with Principal Component Analysis (PCA) to prevent the model from getting overwhelmed by too much information.\n",
        "\n",
        "\n",
        "**Model\tData Preprocessing\tFeatures Table**\n",
        "\n",
        "|Model | Data Preprocessing | Features   |\n",
        "|------|--------------------|------------|\n",
        "|M1 - SVM   |Gray scaling| flatten |\n",
        "|M2 - SVM   |Histogram Equalization, Gaussian Blur| Flatten|\n",
        "|M3 - SVM   |Histogram Equalization, Thresh, MedianBlur| Flatten|\n",
        "|M4 - Decision Tree  |Gray scaling | Edge vectors (Canny) |\n",
        "|M5 - Random Forest   |Gray scaling, Resizing | HoG vectors |\n"
      ],
      "metadata": {
        "id": "Sp9SlTDHNfGw"
      }
    },
    {
      "cell_type": "markdown",
      "source": [
        "Our next step was to compare the three chosen algorithms: SVM, Decision Tree, and Random Forest. The SVM is normally effective with complex image data, however it performed poorly in our experiments. The Decision Tree model was more transparent, but not as accurate. The Random Forest model, which combines several decision processes to improve decision quality, was the most effective, detecting photos with a 69% accuracy rate."
      ],
      "metadata": {
        "id": "dCLvAduWSyVZ"
      }
    },
    {
      "cell_type": "markdown",
      "source": [
        "Classification Model"
      ],
      "metadata": {
        "id": "FMEJc3j6yrJt"
      }
    },
    {
      "cell_type": "code",
      "execution_count": 12,
      "metadata": {
        "id": "CBQySxcOjrda"
      },
      "outputs": [],
      "source": [
        "# Calculating the evaluation results\n",
        "def evaluate(actuals, predictions, class_names):\n",
        "  '''\n",
        "  actuals: list of actual labels\n",
        "  predictions: list of predicted labels\n",
        "  class_names: list of classes used for the model/classification task\n",
        "  '''\n",
        "  # calculate the accuracy\n",
        "  accuracy = metrics.accuracy_score(actuals, predictions)\n",
        "  print(f'Accuracy: {accuracy}')\n",
        "\n",
        "  # plot confusion matrix\n",
        "  confusion_matrix = metrics.confusion_matrix(actuals, predictions, labels=class_names)\n",
        "  disp = ConfusionMatrixDisplay(confusion_matrix=confusion_matrix, display_labels=class_names)\n",
        "  disp.plot()\n",
        "  plt.show()"
      ]
    },
    {
      "cell_type": "markdown",
      "source": [
        "MODEL 1 - SVM Classifier"
      ],
      "metadata": {
        "id": "p1O2dGtc51Ls"
      }
    },
    {
      "cell_type": "code",
      "execution_count": null,
      "metadata": {
        "id": "jA8gWnwhj45D"
      },
      "outputs": [],
      "source": [
        "# Using SVM classifier\n",
        "\n",
        "def get_svm_predictions(X_train, X_val, y_train, y_val):\n",
        "  # building the model\n",
        "  clf = svm.SVC(kernel='linear', random_state=RANDOM_SEED)\n",
        "  clf.fit(X_train, y_train)\n",
        "\n",
        "  # Make predictions on test data\n",
        "  y_pred = clf.predict(X_val)\n",
        "\n",
        "  # evalution\n",
        "  evaluate(y_val, y_pred, clf.classes_)\n",
        "\n",
        "  return clf\n",
        "\n"
      ]
    },
    {
      "cell_type": "code",
      "execution_count": null,
      "metadata": {
        "id": "WS4qHU3Hv__E"
      },
      "outputs": [],
      "source": [
        "# method to get image features\n",
        "def get_features_m1(images):\n",
        "  '''\n",
        "  images: list of images\n",
        "  '''\n",
        "  features_list = []\n",
        "  for img in images:\n",
        "    # image preprocessing - gray scaling\n",
        "    img_grayscaled = cv2.cvtColor(img, cv2.COLOR_BGR2GRAY)\n",
        "\n",
        "    # image vectorisation/ feature extraction\n",
        "    features = img_grayscaled.flatten()\n",
        "\n",
        "    features_list.append(features)\n",
        "\n",
        "  features_list = np.array(features_list)\n",
        "  return features_list"
      ]
    },
    {
      "cell_type": "code",
      "execution_count": null,
      "metadata": {
        "colab": {
          "base_uri": "https://localhost:8080/"
        },
        "id": "DinxANoIw9B-",
        "outputId": "3c8a4933-71b3-48cd-fdd0-d1f854b23423"
      },
      "outputs": [
        {
          "output_type": "stream",
          "name": "stdout",
          "text": [
            "(10000, 40000)\n"
          ]
        }
      ],
      "source": [
        "# feature extraction\n",
        "features_train = get_features_m1(train_images)\n",
        "print(features_train.shape)"
      ]
    },
    {
      "cell_type": "code",
      "execution_count": null,
      "metadata": {
        "id": "DKnekKegxA4N"
      },
      "outputs": [],
      "source": [
        "# data split for train and validation\n",
        "X_train, X_val, y_train, y_val = train_test_split(features_train, df_train['label'], test_size=0.3, random_state=RANDOM_SEED)"
      ]
    },
    {
      "cell_type": "code",
      "execution_count": null,
      "metadata": {
        "id": "0C9pzL8txIph",
        "colab": {
          "base_uri": "https://localhost:8080/",
          "height": 467
        },
        "outputId": "f60e7a9b-b253-4c12-ec93-d15e076566fd"
      },
      "outputs": [
        {
          "output_type": "stream",
          "name": "stdout",
          "text": [
            "Accuracy: 0.516\n"
          ]
        },
        {
          "output_type": "display_data",
          "data": {
            "text/plain": [
              "<Figure size 640x480 with 2 Axes>"
            ],
            "image/png": "[encoded data removed]"
          },
          "metadata": {}
        }
      ],
      "source": [
        "# train model SVM\n",
        "m1 = get_svm_predictions(X_train, X_val, y_train, y_val)"
      ]
    },
    {
      "cell_type": "markdown",
      "source": [
        "Accuracy: 0.516"
      ],
      "metadata": {
        "id": "4H41yqHNNTUA"
      }
    },
    {
      "cell_type": "markdown",
      "source": [],
      "metadata": {
        "id": "C6n4uoJV5Jqa"
      }
    },
    {
      "cell_type": "code",
      "execution_count": null,
      "metadata": {
        "id": "UeXV5tTExwjb",
        "colab": {
          "base_uri": "https://localhost:8080/"
        },
        "outputId": "6b6848e5-455f-48ab-eeb3-e5a40058d1b4"
      },
      "outputs": [
        {
          "output_type": "stream",
          "name": "stdout",
          "text": [
            "(1000, 40000)\n",
            "['cat' 'dog' 'cat' 'cat' 'cat' 'dog' 'dog' 'cat' 'cat' 'cat' 'cat' 'dog'\n",
            " 'cat' 'cat' 'cat' 'dog' 'dog' 'dog' 'dog' 'cat' 'dog' 'dog' 'dog' 'cat'\n",
            " 'dog' 'cat' 'dog' 'cat' 'dog' 'cat' 'cat' 'dog' 'dog' 'cat' 'cat' 'cat'\n",
            " 'dog' 'cat' 'dog' 'cat' 'dog' 'cat' 'cat' 'cat' 'cat' 'cat' 'dog' 'cat'\n",
            " 'cat' 'cat' 'dog' 'cat' 'cat' 'cat' 'dog' 'cat' 'dog' 'dog' 'cat' 'dog'\n",
            " 'cat' 'cat' 'cat' 'cat' 'dog' 'cat' 'dog' 'dog' 'dog' 'cat' 'cat' 'dog'\n",
            " 'dog' 'cat' 'cat' 'dog' 'cat' 'cat' 'cat' 'dog' 'dog' 'dog' 'dog' 'cat'\n",
            " 'cat' 'cat' 'dog' 'cat' 'cat' 'dog' 'cat' 'cat' 'cat' 'cat' 'dog' 'dog'\n",
            " 'cat' 'cat' 'dog' 'cat' 'dog' 'dog' 'cat' 'dog' 'cat' 'cat' 'cat' 'cat'\n",
            " 'cat' 'cat' 'dog' 'dog' 'dog' 'dog' 'dog' 'cat' 'dog' 'cat' 'cat' 'cat'\n",
            " 'dog' 'cat' 'dog' 'cat' 'cat' 'cat' 'cat' 'dog' 'dog' 'dog' 'dog' 'dog'\n",
            " 'cat' 'cat' 'cat' 'dog' 'dog' 'cat' 'cat' 'cat' 'cat' 'cat' 'dog' 'cat'\n",
            " 'dog' 'cat' 'cat' 'dog' 'cat' 'dog' 'dog' 'cat' 'dog' 'cat' 'dog' 'cat'\n",
            " 'dog' 'dog' 'dog' 'cat' 'cat' 'dog' 'cat' 'cat' 'dog' 'dog' 'dog' 'cat'\n",
            " 'cat' 'cat' 'dog' 'cat' 'dog' 'dog' 'dog' 'dog' 'cat' 'cat' 'cat' 'cat'\n",
            " 'cat' 'cat' 'dog' 'dog' 'dog' 'cat' 'cat' 'cat' 'cat' 'cat' 'dog' 'cat'\n",
            " 'cat' 'dog' 'dog' 'dog' 'dog' 'cat' 'cat' 'dog' 'dog' 'cat' 'dog' 'cat'\n",
            " 'cat' 'dog' 'dog' 'dog' 'cat' 'cat' 'cat' 'cat' 'cat' 'cat' 'dog' 'cat'\n",
            " 'dog' 'dog' 'dog' 'dog' 'dog' 'cat' 'dog' 'dog' 'dog' 'cat' 'cat' 'cat'\n",
            " 'cat' 'cat' 'cat' 'cat' 'cat' 'cat' 'dog' 'dog' 'dog' 'cat' 'cat' 'dog'\n",
            " 'cat' 'dog' 'cat' 'cat' 'cat' 'cat' 'dog' 'dog' 'cat' 'dog' 'dog' 'cat'\n",
            " 'cat' 'cat' 'cat' 'dog' 'dog' 'cat' 'dog' 'cat' 'cat' 'dog' 'cat' 'cat'\n",
            " 'cat' 'cat' 'cat' 'dog' 'cat' 'dog' 'cat' 'dog' 'cat' 'cat' 'cat' 'dog'\n",
            " 'cat' 'cat' 'dog' 'dog' 'cat' 'cat' 'dog' 'dog' 'dog' 'dog' 'cat' 'cat'\n",
            " 'dog' 'dog' 'dog' 'dog' 'dog' 'cat' 'dog' 'dog' 'cat' 'dog' 'cat' 'dog'\n",
            " 'dog' 'dog' 'dog' 'cat' 'cat' 'cat' 'cat' 'cat' 'dog' 'dog' 'dog' 'dog'\n",
            " 'cat' 'cat' 'dog' 'cat' 'cat' 'dog' 'dog' 'cat' 'cat' 'cat' 'cat' 'cat'\n",
            " 'cat' 'cat' 'cat' 'cat' 'cat' 'cat' 'cat' 'cat' 'dog' 'cat' 'cat' 'dog'\n",
            " 'dog' 'cat' 'cat' 'dog' 'cat' 'cat' 'dog' 'dog' 'dog' 'dog' 'cat' 'cat'\n",
            " 'dog' 'cat' 'cat' 'dog' 'dog' 'dog' 'cat' 'dog' 'dog' 'cat' 'dog' 'cat'\n",
            " 'dog' 'cat' 'cat' 'cat' 'dog' 'cat' 'cat' 'cat' 'dog' 'dog' 'dog' 'dog'\n",
            " 'dog' 'cat' 'cat' 'dog' 'dog' 'cat' 'dog' 'dog' 'cat' 'cat' 'cat' 'cat'\n",
            " 'cat' 'dog' 'cat' 'cat' 'dog' 'dog' 'dog' 'cat' 'dog' 'dog' 'cat' 'cat'\n",
            " 'dog' 'cat' 'dog' 'dog' 'dog' 'cat' 'cat' 'dog' 'cat' 'cat' 'cat' 'cat'\n",
            " 'cat' 'cat' 'cat' 'cat' 'dog' 'cat' 'cat' 'cat' 'dog' 'dog' 'cat' 'dog'\n",
            " 'cat' 'dog' 'cat' 'dog' 'cat' 'cat' 'cat' 'cat' 'cat' 'dog' 'cat' 'cat'\n",
            " 'cat' 'cat' 'dog' 'dog' 'dog' 'dog' 'dog' 'dog' 'cat' 'cat' 'cat' 'cat'\n",
            " 'cat' 'dog' 'cat' 'dog' 'cat' 'cat' 'cat' 'dog' 'cat' 'cat' 'cat' 'dog'\n",
            " 'cat' 'cat' 'dog' 'cat' 'dog' 'dog' 'dog' 'cat' 'dog' 'cat' 'cat' 'dog'\n",
            " 'cat' 'dog' 'cat' 'cat' 'dog' 'cat' 'dog' 'dog' 'dog' 'dog' 'dog' 'cat'\n",
            " 'cat' 'dog' 'cat' 'cat' 'dog' 'dog' 'dog' 'cat' 'cat' 'cat' 'cat' 'cat'\n",
            " 'dog' 'dog' 'dog' 'cat' 'cat' 'cat' 'dog' 'cat' 'dog' 'dog' 'cat' 'dog'\n",
            " 'cat' 'cat' 'dog' 'cat' 'cat' 'cat' 'dog' 'dog' 'dog' 'dog' 'cat' 'dog'\n",
            " 'cat' 'dog' 'dog' 'cat' 'dog' 'dog' 'cat' 'cat' 'cat' 'dog' 'cat' 'dog'\n",
            " 'cat' 'dog' 'dog' 'cat' 'dog' 'cat' 'cat' 'cat' 'cat' 'dog' 'cat' 'cat'\n",
            " 'dog' 'cat' 'dog' 'dog' 'dog' 'cat' 'dog' 'dog' 'cat' 'dog' 'cat' 'dog'\n",
            " 'cat' 'cat' 'cat' 'cat' 'dog' 'cat' 'dog' 'dog' 'dog' 'cat' 'cat' 'cat'\n",
            " 'cat' 'cat' 'dog' 'dog' 'cat' 'dog' 'cat' 'cat' 'dog' 'cat' 'dog' 'cat'\n",
            " 'dog' 'dog' 'dog' 'dog' 'cat' 'cat' 'cat' 'dog' 'cat' 'dog' 'cat' 'cat'\n",
            " 'dog' 'cat' 'cat' 'cat' 'cat' 'cat' 'dog' 'cat' 'dog' 'cat' 'cat' 'dog'\n",
            " 'cat' 'cat' 'cat' 'cat' 'cat' 'dog' 'cat' 'cat' 'dog' 'dog' 'cat' 'cat'\n",
            " 'cat' 'cat' 'cat' 'cat' 'cat' 'dog' 'cat' 'dog' 'dog' 'cat' 'dog' 'cat'\n",
            " 'dog' 'dog' 'dog' 'dog' 'dog' 'dog' 'dog' 'cat' 'cat' 'cat' 'dog' 'dog'\n",
            " 'cat' 'dog' 'dog' 'dog' 'cat' 'cat' 'dog' 'dog' 'cat' 'cat' 'cat' 'cat'\n",
            " 'cat' 'dog' 'cat' 'cat' 'dog' 'cat' 'cat' 'cat' 'dog' 'dog' 'cat' 'dog'\n",
            " 'cat' 'cat' 'cat' 'dog' 'dog' 'cat' 'cat' 'cat' 'cat' 'cat' 'dog' 'cat'\n",
            " 'dog' 'dog' 'cat' 'cat' 'dog' 'cat' 'cat' 'dog' 'dog' 'dog' 'cat' 'cat'\n",
            " 'cat' 'cat' 'cat' 'dog' 'cat' 'dog' 'dog' 'cat' 'dog' 'cat' 'dog' 'dog'\n",
            " 'dog' 'cat' 'cat' 'cat' 'dog' 'cat' 'cat' 'dog' 'dog' 'dog' 'cat' 'dog'\n",
            " 'dog' 'cat' 'dog' 'dog' 'cat' 'cat' 'cat' 'cat' 'dog' 'cat' 'cat' 'dog'\n",
            " 'cat' 'cat' 'cat' 'dog' 'dog' 'dog' 'cat' 'dog' 'dog' 'cat' 'cat' 'cat'\n",
            " 'cat' 'dog' 'dog' 'dog' 'cat' 'cat' 'cat' 'cat' 'dog' 'dog' 'cat' 'dog'\n",
            " 'cat' 'dog' 'cat' 'cat' 'cat' 'cat' 'cat' 'cat' 'dog' 'cat' 'cat' 'dog'\n",
            " 'cat' 'dog' 'cat' 'dog' 'cat' 'cat' 'dog' 'cat' 'cat' 'cat' 'cat' 'cat'\n",
            " 'dog' 'cat' 'dog' 'cat' 'dog' 'cat' 'cat' 'cat' 'cat' 'dog' 'dog' 'cat'\n",
            " 'dog' 'cat' 'cat' 'dog' 'dog' 'cat' 'dog' 'cat' 'cat' 'cat' 'dog' 'cat'\n",
            " 'dog' 'dog' 'cat' 'cat' 'cat' 'dog' 'cat' 'cat' 'cat' 'dog' 'dog' 'dog'\n",
            " 'cat' 'dog' 'cat' 'dog' 'cat' 'cat' 'cat' 'cat' 'dog' 'dog' 'cat' 'cat'\n",
            " 'cat' 'cat' 'dog' 'cat' 'dog' 'dog' 'dog' 'dog' 'dog' 'cat' 'cat' 'dog'\n",
            " 'dog' 'cat' 'cat' 'dog' 'cat' 'cat' 'cat' 'cat' 'cat' 'cat' 'cat' 'dog'\n",
            " 'dog' 'cat' 'dog' 'cat' 'dog' 'dog' 'cat' 'cat' 'cat' 'cat' 'dog' 'cat'\n",
            " 'dog' 'cat' 'cat' 'dog' 'cat' 'cat' 'cat' 'dog' 'cat' 'cat' 'cat' 'dog'\n",
            " 'cat' 'cat' 'cat' 'cat' 'dog' 'cat' 'dog' 'cat' 'dog' 'cat' 'cat' 'cat'\n",
            " 'cat' 'dog' 'dog' 'cat' 'cat' 'cat' 'cat' 'dog' 'cat' 'dog' 'dog' 'cat'\n",
            " 'dog' 'cat' 'dog' 'cat' 'dog' 'cat' 'dog' 'cat' 'dog' 'cat' 'cat' 'dog'\n",
            " 'cat' 'dog' 'dog' 'dog' 'cat' 'dog' 'cat' 'cat' 'dog' 'dog' 'cat' 'cat'\n",
            " 'dog' 'dog' 'cat' 'dog' 'cat' 'dog' 'cat' 'cat' 'cat' 'cat' 'cat' 'dog'\n",
            " 'cat' 'cat' 'cat' 'dog' 'cat' 'cat' 'cat' 'cat' 'cat' 'dog' 'cat' 'cat'\n",
            " 'cat' 'cat' 'cat' 'dog' 'cat' 'dog' 'cat' 'cat' 'cat' 'dog' 'dog' 'dog'\n",
            " 'cat' 'dog' 'cat' 'dog' 'cat' 'dog' 'cat' 'cat' 'cat' 'dog' 'cat' 'dog'\n",
            " 'cat' 'cat' 'dog' 'cat' 'dog' 'dog' 'cat' 'cat' 'cat' 'dog' 'cat' 'cat'\n",
            " 'cat' 'cat' 'cat' 'dog' 'dog' 'dog' 'cat' 'cat' 'cat' 'cat' 'dog' 'dog'\n",
            " 'cat' 'cat' 'dog' 'cat' 'dog' 'dog' 'cat' 'dog' 'dog' 'dog' 'dog' 'cat'\n",
            " 'cat' 'cat' 'cat' 'cat']\n"
          ]
        }
      ],
      "source": [
        "# feature extraction - test data\n",
        "features_test = get_features_m1(test_images)\n",
        "print(features_test.shape)\n",
        "\n",
        "# get model predictions\n",
        "predictions = m1.predict(features_test)\n",
        "print(predictions)"
      ]
    },
    {
      "cell_type": "markdown",
      "source": [
        "MODEL 2 - SVM Classifier"
      ],
      "metadata": {
        "id": "t125j7moKvHc"
      }
    },
    {
      "cell_type": "code",
      "source": [
        "def get_features_m2(images):\n",
        "    '''\n",
        "    images: list of images\n",
        "    '''\n",
        "    features_list = []\n",
        "    for img in images:\n",
        "        # Image preprocessing - gray scaling\n",
        "        img_grayscaled = cv2.cvtColor(img, cv2.COLOR_BGR2GRAY)\n",
        "\n",
        "        # Image preprocessing - histogram equalization\n",
        "        img_equalized = cv2.equalizeHist(img_grayscaled)\n",
        "\n",
        "        # Image preprocessing - Gaussian blur\n",
        "        img_blurred = cv2.GaussianBlur(img_equalized, (5, 5), 0)\n",
        "\n",
        "        # Image vectorization/ feature extraction\n",
        "        features = img_blurred.flatten()\n",
        "\n",
        "        features_list.append(features)\n",
        "\n",
        "    features_list = np.array(features_list)\n",
        "    return features_list"
      ],
      "metadata": {
        "id": "UHzCAEqkKsXW"
      },
      "execution_count": null,
      "outputs": []
    },
    {
      "cell_type": "markdown",
      "source": [
        "Histogram Equalization: Added histogram equalization as a preprocessing step after grayscale conversion. Histogram equalization can enhance the contrast of the images, which may improve feature extraction.\n",
        "\n",
        "Gaussian Blur: Applied Gaussian blur to the equalized grayscale images. Gaussian blur can help in reducing noise and details in the images, making them smoother and potentially improving feature extraction and classification performance."
      ],
      "metadata": {
        "id": "VERHMywefdu1"
      }
    },
    {
      "cell_type": "code",
      "source": [
        "# feature extraction\n",
        "features_train = get_features_m2(train_images)\n",
        "print(features_train.shape)"
      ],
      "metadata": {
        "colab": {
          "base_uri": "https://localhost:8080/"
        },
        "id": "RRQ_Uq-ZaCb7",
        "outputId": "8ca54cc4-076c-4c23-c9bc-fca708547bca"
      },
      "execution_count": null,
      "outputs": [
        {
          "output_type": "stream",
          "name": "stdout",
          "text": [
            "(10000, 40000)\n"
          ]
        }
      ]
    },
    {
      "cell_type": "code",
      "source": [
        "# data split for train and validation\n",
        "X_train, X_val, y_train, y_val = train_test_split(features_train, df_train['label'], test_size=0.3, random_state=RANDOM_SEED)"
      ],
      "metadata": {
        "id": "BUa3I-WFaKMh"
      },
      "execution_count": null,
      "outputs": []
    },
    {
      "cell_type": "code",
      "source": [
        "# train model SVM\n",
        "m2 = get_svm_predictions(X_train, X_val, y_train, y_val)"
      ],
      "metadata": {
        "id": "m4f8iWxYabWp",
        "colab": {
          "base_uri": "https://localhost:8080/",
          "height": 467
        },
        "outputId": "8b853178-c20f-422f-d758-034d42a69caf"
      },
      "execution_count": null,
      "outputs": [
        {
          "output_type": "stream",
          "name": "stdout",
          "text": [
            "Accuracy: 0.5143333333333333\n"
          ]
        },
        {
          "output_type": "display_data",
          "data": {
            "text/plain": [
              "<Figure size 640x480 with 2 Axes>"
            ],
            "image/png": "[encoded data removed]"
          },
          "metadata": {}
        }
      ]
    },
    {
      "cell_type": "markdown",
      "source": [
        "MODEL 3 -  SVM Classifier"
      ],
      "metadata": {
        "id": "SlOZcmEK5RsU"
      }
    },
    {
      "cell_type": "code",
      "source": [
        "def get_features_m3(images):\n",
        "    '''\n",
        "    images: list of images\n",
        "    '''\n",
        "    features_list = []\n",
        "    for img in images:\n",
        "        # Image preprocessing - convert to grayscale, etc.\n",
        "        img_gray = cv2.cvtColor(img, cv2.COLOR_BGR2GRAY)\n",
        "        img_equalized = cv2.equalizeHist(img_gray)\n",
        "        _, img_thresh = cv2.threshold(img_equalized, 0, 255, cv2.THRESH_BINARY + cv2.THRESH_OTSU)\n",
        "        img_blurred = cv2.medianBlur(img_thresh, 5)\n",
        "        img_edges = cv2.Canny(img_blurred, 100, 200)\n",
        "\n",
        "        # Image vectorization/ feature extraction\n",
        "        features = img_edges.flatten()\n",
        "\n",
        "        features_list.append(features)\n",
        "\n",
        "    features_list = np.array(features_list)\n",
        "    return features_list"
      ],
      "metadata": {
        "id": "NfgFN-TiLREh"
      },
      "execution_count": null,
      "outputs": []
    },
    {
      "cell_type": "code",
      "source": [
        "# feature extraction\n",
        "features_train = get_features_m3(train_images)\n",
        "print(features_train.shape)"
      ],
      "metadata": {
        "id": "T6itJkkgh1tA",
        "colab": {
          "base_uri": "https://localhost:8080/"
        },
        "outputId": "76481334-6063-460e-935d-f35dbd3c7201"
      },
      "execution_count": null,
      "outputs": [
        {
          "output_type": "stream",
          "name": "stdout",
          "text": [
            "(10000, 40000)\n"
          ]
        }
      ]
    },
    {
      "cell_type": "code",
      "source": [
        "# data split for train and validation\n",
        "X_train, X_val, y_train, y_val = train_test_split(train_images, df_train['label'], test_size=0.3, random_state=RANDOM_SEED)\n",
        "\n",
        "# train model\n",
        "m3 = get_svm_predictions(X_train, X_val, y_train, y_val)"
      ],
      "metadata": {
        "id": "DhvNzMSb5fKM"
      },
      "execution_count": null,
      "outputs": []
    },
    {
      "cell_type": "code",
      "execution_count": null,
      "metadata": {
        "id": "hXN_uRgFA-RO"
      },
      "outputs": [],
      "source": [
        "# feature extraction\n",
        "f_test = get_features_m3(test_images)\n",
        "print(features_train.shape)\n",
        "\n",
        "# get model predictions\n",
        "predictions = m3.predict(f_test)\n",
        "print(predictions)"
      ]
    },
    {
      "cell_type": "markdown",
      "source": [
        "MODEL 4 - Decision_tree_predictions"
      ],
      "metadata": {
        "id": "j8xLIBaPfLwm"
      }
    },
    {
      "cell_type": "code",
      "source": [
        "# method to train and predict using Decision tree\n",
        "def Decision_tree_predictions(X_train, X_val, y_train, y_val):\n",
        "  # build model\n",
        "  dtc = DecisionTreeClassifier(random_state=42)\n",
        "  dtc.fit(X_train, y_train)\n",
        "\n",
        "  # Make predictions on test data\n",
        "  y_pred = dtc.predict(X_val)\n",
        "\n",
        "  # evalution\n",
        "  evaluate(y_val, y_pred, dtc.classes_)\n",
        "\n",
        "  return dtc"
      ],
      "metadata": {
        "id": "eJr7FEuCj1Rn"
      },
      "execution_count": null,
      "outputs": []
    },
    {
      "cell_type": "code",
      "source": [
        "# method to get image features\n",
        "def get_features_m4(images):\n",
        "  '''\n",
        "  images: list of images\n",
        "  '''\n",
        "  features_list = []\n",
        "  for img in images:\n",
        "    # image preprocessing\n",
        "    img_grayscaled = cv2.cvtColor(img, cv2.COLOR_BGR2GRAY)\n",
        "\n",
        "    # feature extraction\n",
        "    edges_canny = cv2.Canny(img_grayscaled, 100, 200)\n",
        "    features = edges_canny.flatten()\n",
        "\n",
        "    features_list.append(features)\n",
        "\n",
        "  features_list = np.array(features_list)\n",
        "  return features_list"
      ],
      "metadata": {
        "id": "h6P6cCJjfTFi"
      },
      "execution_count": null,
      "outputs": []
    },
    {
      "cell_type": "code",
      "source": [
        "def get_features_m4(images):\n",
        "    '''\n",
        "    images: list of images\n",
        "    '''\n",
        "    features_list = []\n",
        "    for img in images:\n",
        "        # Image preprocessing - convert to grayscale\n",
        "        img_gray = cv2.cvtColor(img, cv2.COLOR_BGR2GRAY)\n",
        "        img_equalized = cv2.equalizeHist(img_gray)\n",
        "        _, img_thresh = cv2.threshold(img_equalized, 0, 255, cv2.THRESH_BINARY + cv2.THRESH_OTSU)\n",
        "        img_blurred = cv2.medianBlur(img_thresh, 5)\n",
        "        img_edges = cv2.Canny(img_blurred, 100, 200)\n",
        "\n",
        "        # Image vectorization/ feature extraction\n",
        "        features = img_edges.flatten()\n",
        "\n",
        "        features_list.append(features)\n",
        "\n",
        "    features_list = np.array(features_list)\n",
        "    return features_list"
      ],
      "metadata": {
        "id": "zdbq5RGvNtHg"
      },
      "execution_count": null,
      "outputs": []
    },
    {
      "cell_type": "code",
      "source": [
        "# feature extraction\n",
        "features_train = get_features_m4(train_images)\n",
        "print(features_train.shape)"
      ],
      "metadata": {
        "id": "lVuCWIY2zJbk",
        "colab": {
          "base_uri": "https://localhost:8080/"
        },
        "outputId": "d2c659b3-00ea-4b22-a5fd-fa51613539dc"
      },
      "execution_count": null,
      "outputs": [
        {
          "output_type": "stream",
          "name": "stdout",
          "text": [
            "(10000, 40000)\n"
          ]
        }
      ]
    },
    {
      "cell_type": "code",
      "source": [
        "# data split for train and validation\n",
        "X_train, X_val, y_train, y_val = train_test_split(features_train, df_train['label'], test_size=0.3, random_state=RANDOM_SEED)\n"
      ],
      "metadata": {
        "id": "Db0Il5ngzN1h"
      },
      "execution_count": null,
      "outputs": []
    },
    {
      "cell_type": "code",
      "source": [
        "# train model\n",
        "m4 = get_svm_predictions(X_train, X_val, y_train, y_val)"
      ],
      "metadata": {
        "id": "_QojIoELzR4E",
        "colab": {
          "base_uri": "https://localhost:8080/",
          "height": 468
        },
        "outputId": "bc4bd720-3376-45a0-9b28-54b1a21d0302"
      },
      "execution_count": null,
      "outputs": [
        {
          "output_type": "stream",
          "name": "stdout",
          "text": [
            "Accuracy: 0.5523333333333333\n"
          ]
        },
        {
          "output_type": "display_data",
          "data": {
            "text/plain": [
              "<Figure size 640x480 with 2 Axes>"
            ],
            "image/png": "[encoded data removed]"
          },
          "metadata": {}
        }
      ]
    },
    {
      "cell_type": "code",
      "source": [
        "# feature extraction - test data\n",
        "features_test = get_features_m4(test_images)\n",
        "print(features_test.shape)\n",
        "\n",
        "# get model predictions\n",
        "predictions = m4.predict(features_test)\n",
        "\n",
        "print(predictions)"
      ],
      "metadata": {
        "id": "kkiuaNB0zWZ3"
      },
      "execution_count": null,
      "outputs": []
    },
    {
      "cell_type": "markdown",
      "source": [
        "MODEL 5 - Random Forest Classifier"
      ],
      "metadata": {
        "id": "yvz598neGdTU"
      }
    },
    {
      "cell_type": "code",
      "source": [
        "# Using Random Forest classifier\n",
        "\n",
        "def get_rf_predictions(X_train, X_val, y_train, y_val):\n",
        "    # Build model\n",
        "    clf = RandomForestClassifier(n_estimators=100, random_state=RANDOM_SEED)\n",
        "    clf.fit(X_train, y_train)\n",
        "\n",
        "    # Make predictions on validation data\n",
        "    y_pred = clf.predict(X_val)\n",
        "\n",
        "    # Evaluation\n",
        "    evaluate(y_val, y_pred, clf.classes_)\n",
        "\n",
        "    return clf"
      ],
      "metadata": {
        "id": "YowO7K98GgUk"
      },
      "execution_count": 13,
      "outputs": []
    },
    {
      "cell_type": "code",
      "source": [
        "def train_random_forest(X, y):\n",
        "    # Splitting the dataset\n",
        "    X_train, X_val, y_train, y_val = train_test_split(X, y, test_size=0.3, random_state=100)\n",
        "\n",
        "    # Training the Random Forest model\n",
        "    clf = RandomForestClassifier(n_estimators=100, random_state=42)\n",
        "    clf.fit(X_train, y_train)\n",
        "\n",
        "    # Making predictions\n",
        "    y_pred = clf.predict(X_val)\n",
        "\n",
        "    # Evaluating the model\n",
        "    print(classification_report(y_val, y_pred))\n",
        "\n",
        "    return clf"
      ],
      "metadata": {
        "id": "akl3COWdH87b"
      },
      "execution_count": 14,
      "outputs": []
    },
    {
      "cell_type": "code",
      "source": [
        "def preprocess_image(img):\n",
        "    # Convert to grayscale\n",
        "    gray = cv2.cvtColor(img, cv2.COLOR_BGR2GRAY)\n",
        "    # Resize images to a fixed size to ensure feature vector size consistency\n",
        "    resized = cv2.resize(gray, (128, 64)) # Example size, adjust as needed\n",
        "    return resized"
      ],
      "metadata": {
        "id": "BYaKKaeHOtgB"
      },
      "execution_count": 15,
      "outputs": []
    },
    {
      "cell_type": "code",
      "source": [
        "def extract_features(images):\n",
        "    hog_features = []\n",
        "    for img in images:\n",
        "        preprocessed_img = preprocess_image(img)\n",
        "        features = hog(preprocessed_img, orientations=9, pixels_per_cell=(8, 8),\n",
        "                       cells_per_block=(2, 2), block_norm='L2-Hys', visualize=False, multichannel=False)\n",
        "        hog_features.append(features)\n",
        "    return np.array(hog_features)"
      ],
      "metadata": {
        "id": "ID0c6OvWOvF5"
      },
      "execution_count": 16,
      "outputs": []
    },
    {
      "cell_type": "code",
      "source": [
        "# feature extraction\n",
        "features_train = extract_features(train_images)\n",
        "print(features_train.shape)"
      ],
      "metadata": {
        "colab": {
          "base_uri": "https://localhost:8080/"
        },
        "id": "fuHaJa5FWl1m",
        "outputId": "522d50ec-147b-494f-eee7-c690b649c2ca"
      },
      "execution_count": 17,
      "outputs": [
        {
          "output_type": "stream",
          "name": "stderr",
          "text": [
            "<ipython-input-16-77e1f3b4964c>:5: FutureWarning: `multichannel` is a deprecated argument name for `hog`. It will be removed in version 1.0. Please use `channel_axis` instead.\n",
            "  features = hog(preprocessed_img, orientations=9, pixels_per_cell=(8, 8),\n"
          ]
        },
        {
          "output_type": "stream",
          "name": "stdout",
          "text": [
            "(10000, 3780)\n"
          ]
        }
      ]
    },
    {
      "cell_type": "code",
      "source": [
        "X_train, X_val, y_train, y_val = train_test_split(features_train, df_train['label'], test_size=0.3, random_state=RANDOM_SEED)"
      ],
      "metadata": {
        "id": "AT2CkWPWWcEu"
      },
      "execution_count": 18,
      "outputs": []
    },
    {
      "cell_type": "code",
      "source": [
        "# train model\n",
        "m5 = get_rf_predictions(X_train, X_val, y_train, y_val)"
      ],
      "metadata": {
        "colab": {
          "base_uri": "https://localhost:8080/",
          "height": 466
        },
        "id": "8zLsQno8XJo1",
        "outputId": "13ff7d23-d08f-4e44-b29b-305f4d7f6b88"
      },
      "execution_count": 19,
      "outputs": [
        {
          "output_type": "stream",
          "name": "stdout",
          "text": [
            "Accuracy: 0.6933333333333334\n"
          ]
        },
        {
          "output_type": "display_data",
          "data": {
            "text/plain": [
              "<Figure size 640x480 with 2 Axes>"
            ],
            "image/png": "[encoded data removed]"
          },
          "metadata": {}
        }
      ]
    },
    {
      "cell_type": "code",
      "source": [
        "# feature extraction - test data\n",
        "features_test = extract_features(test_images)\n",
        "print(features_test.shape)\n",
        "\n",
        "# get model predictions\n",
        "predictions = m5.predict(features_test)\n",
        "\n",
        "print(predictions)"
      ],
      "metadata": {
        "colab": {
          "base_uri": "https://localhost:8080/"
        },
        "id": "ziYzWasiGmnc",
        "outputId": "20e94d15-994c-48ef-def5-958bf4797a61"
      },
      "execution_count": 21,
      "outputs": [
        {
          "output_type": "stream",
          "name": "stderr",
          "text": [
            "<ipython-input-16-77e1f3b4964c>:5: FutureWarning: `multichannel` is a deprecated argument name for `hog`. It will be removed in version 1.0. Please use `channel_axis` instead.\n",
            "  features = hog(preprocessed_img, orientations=9, pixels_per_cell=(8, 8),\n"
          ]
        },
        {
          "output_type": "stream",
          "name": "stdout",
          "text": [
            "(1000, 3780)\n",
            "['dog' 'cat' 'cat' 'cat' 'cat' 'dog' 'dog' 'dog' 'cat' 'cat' 'dog' 'dog'\n",
            " 'cat' 'cat' 'dog' 'dog' 'cat' 'dog' 'cat' 'dog' 'dog' 'dog' 'dog' 'cat'\n",
            " 'cat' 'cat' 'cat' 'cat' 'cat' 'cat' 'dog' 'dog' 'cat' 'cat' 'cat' 'cat'\n",
            " 'cat' 'dog' 'dog' 'dog' 'dog' 'dog' 'cat' 'cat' 'dog' 'cat' 'cat' 'cat'\n",
            " 'cat' 'dog' 'dog' 'dog' 'cat' 'dog' 'dog' 'cat' 'dog' 'cat' 'cat' 'dog'\n",
            " 'dog' 'cat' 'cat' 'dog' 'dog' 'cat' 'cat' 'dog' 'cat' 'dog' 'cat' 'cat'\n",
            " 'dog' 'cat' 'dog' 'cat' 'cat' 'dog' 'dog' 'dog' 'dog' 'dog' 'cat' 'cat'\n",
            " 'cat' 'cat' 'cat' 'cat' 'cat' 'dog' 'dog' 'dog' 'cat' 'dog' 'dog' 'cat'\n",
            " 'cat' 'cat' 'cat' 'cat' 'cat' 'dog' 'cat' 'cat' 'dog' 'cat' 'cat' 'cat'\n",
            " 'dog' 'dog' 'cat' 'dog' 'dog' 'cat' 'cat' 'cat' 'dog' 'dog' 'dog' 'cat'\n",
            " 'cat' 'dog' 'cat' 'dog' 'cat' 'cat' 'cat' 'dog' 'dog' 'cat' 'dog' 'cat'\n",
            " 'cat' 'dog' 'dog' 'cat' 'dog' 'dog' 'cat' 'cat' 'dog' 'cat' 'dog' 'cat'\n",
            " 'cat' 'cat' 'dog' 'dog' 'cat' 'dog' 'cat' 'cat' 'dog' 'dog' 'cat' 'dog'\n",
            " 'dog' 'cat' 'cat' 'cat' 'cat' 'cat' 'cat' 'cat' 'cat' 'dog' 'cat' 'dog'\n",
            " 'cat' 'dog' 'dog' 'cat' 'cat' 'dog' 'dog' 'cat' 'cat' 'cat' 'cat' 'cat'\n",
            " 'cat' 'cat' 'cat' 'dog' 'cat' 'cat' 'cat' 'cat' 'cat' 'cat' 'cat' 'cat'\n",
            " 'dog' 'cat' 'dog' 'dog' 'dog' 'cat' 'cat' 'dog' 'dog' 'dog' 'cat' 'cat'\n",
            " 'dog' 'dog' 'dog' 'cat' 'dog' 'cat' 'dog' 'dog' 'dog' 'cat' 'cat' 'cat'\n",
            " 'cat' 'cat' 'cat' 'dog' 'cat' 'cat' 'dog' 'cat' 'cat' 'cat' 'dog' 'cat'\n",
            " 'cat' 'dog' 'cat' 'cat' 'cat' 'cat' 'cat' 'cat' 'cat' 'cat' 'dog' 'cat'\n",
            " 'cat' 'dog' 'dog' 'dog' 'dog' 'cat' 'cat' 'cat' 'cat' 'dog' 'dog' 'cat'\n",
            " 'cat' 'dog' 'dog' 'dog' 'dog' 'cat' 'dog' 'cat' 'dog' 'cat' 'dog' 'dog'\n",
            " 'dog' 'dog' 'cat' 'cat' 'dog' 'dog' 'dog' 'cat' 'cat' 'dog' 'dog' 'dog'\n",
            " 'dog' 'dog' 'cat' 'cat' 'dog' 'dog' 'cat' 'cat' 'cat' 'dog' 'cat' 'cat'\n",
            " 'cat' 'dog' 'cat' 'dog' 'dog' 'cat' 'cat' 'cat' 'dog' 'dog' 'cat' 'cat'\n",
            " 'cat' 'cat' 'cat' 'cat' 'dog' 'dog' 'cat' 'cat' 'dog' 'dog' 'cat' 'cat'\n",
            " 'cat' 'cat' 'dog' 'cat' 'cat' 'dog' 'dog' 'cat' 'cat' 'cat' 'dog' 'cat'\n",
            " 'dog' 'dog' 'cat' 'dog' 'cat' 'dog' 'dog' 'cat' 'cat' 'cat' 'cat' 'dog'\n",
            " 'cat' 'cat' 'cat' 'cat' 'dog' 'cat' 'dog' 'dog' 'cat' 'cat' 'cat' 'dog'\n",
            " 'cat' 'dog' 'cat' 'dog' 'dog' 'dog' 'dog' 'dog' 'dog' 'cat' 'cat' 'cat'\n",
            " 'dog' 'cat' 'dog' 'cat' 'cat' 'dog' 'cat' 'dog' 'dog' 'dog' 'cat' 'dog'\n",
            " 'dog' 'cat' 'cat' 'cat' 'cat' 'dog' 'cat' 'dog' 'cat' 'cat' 'dog' 'cat'\n",
            " 'cat' 'dog' 'dog' 'cat' 'dog' 'dog' 'dog' 'cat' 'dog' 'cat' 'cat' 'dog'\n",
            " 'cat' 'dog' 'dog' 'cat' 'cat' 'dog' 'dog' 'dog' 'cat' 'cat' 'dog' 'dog'\n",
            " 'dog' 'dog' 'cat' 'cat' 'cat' 'dog' 'dog' 'cat' 'dog' 'dog' 'cat' 'dog'\n",
            " 'cat' 'cat' 'cat' 'dog' 'cat' 'cat' 'dog' 'cat' 'cat' 'cat' 'cat' 'cat'\n",
            " 'cat' 'dog' 'cat' 'dog' 'cat' 'dog' 'dog' 'dog' 'dog' 'cat' 'dog' 'cat'\n",
            " 'dog' 'cat' 'dog' 'cat' 'cat' 'dog' 'dog' 'cat' 'cat' 'dog' 'dog' 'cat'\n",
            " 'cat' 'cat' 'dog' 'cat' 'cat' 'dog' 'dog' 'dog' 'cat' 'cat' 'cat' 'dog'\n",
            " 'cat' 'dog' 'dog' 'dog' 'cat' 'cat' 'cat' 'cat' 'dog' 'dog' 'cat' 'cat'\n",
            " 'dog' 'cat' 'cat' 'cat' 'cat' 'dog' 'cat' 'dog' 'cat' 'dog' 'cat' 'dog'\n",
            " 'cat' 'cat' 'cat' 'cat' 'cat' 'cat' 'dog' 'cat' 'dog' 'cat' 'dog' 'dog'\n",
            " 'cat' 'dog' 'cat' 'cat' 'dog' 'cat' 'cat' 'cat' 'cat' 'dog' 'cat' 'dog'\n",
            " 'dog' 'cat' 'dog' 'cat' 'cat' 'dog' 'cat' 'dog' 'dog' 'cat' 'cat' 'cat'\n",
            " 'dog' 'cat' 'dog' 'dog' 'cat' 'cat' 'cat' 'cat' 'dog' 'cat' 'dog' 'dog'\n",
            " 'dog' 'dog' 'cat' 'cat' 'cat' 'cat' 'cat' 'dog' 'cat' 'dog' 'cat' 'cat'\n",
            " 'cat' 'cat' 'cat' 'dog' 'cat' 'dog' 'dog' 'cat' 'dog' 'cat' 'dog' 'cat'\n",
            " 'dog' 'cat' 'dog' 'dog' 'cat' 'cat' 'dog' 'cat' 'dog' 'dog' 'dog' 'cat'\n",
            " 'dog' 'dog' 'cat' 'cat' 'dog' 'cat' 'cat' 'cat' 'cat' 'cat' 'cat' 'dog'\n",
            " 'dog' 'cat' 'dog' 'dog' 'cat' 'dog' 'dog' 'dog' 'cat' 'cat' 'cat' 'cat'\n",
            " 'cat' 'cat' 'cat' 'cat' 'dog' 'cat' 'cat' 'cat' 'dog' 'dog' 'dog' 'cat'\n",
            " 'dog' 'dog' 'dog' 'cat' 'cat' 'cat' 'cat' 'dog' 'cat' 'cat' 'cat' 'cat'\n",
            " 'dog' 'cat' 'cat' 'dog' 'cat' 'cat' 'cat' 'dog' 'cat' 'dog' 'cat' 'cat'\n",
            " 'cat' 'cat' 'cat' 'dog' 'cat' 'cat' 'dog' 'cat' 'dog' 'cat' 'cat' 'dog'\n",
            " 'dog' 'dog' 'cat' 'cat' 'dog' 'dog' 'cat' 'dog' 'dog' 'cat' 'cat' 'cat'\n",
            " 'cat' 'cat' 'cat' 'dog' 'dog' 'cat' 'dog' 'dog' 'cat' 'cat' 'dog' 'cat'\n",
            " 'cat' 'cat' 'dog' 'cat' 'cat' 'cat' 'cat' 'cat' 'cat' 'cat' 'cat' 'cat'\n",
            " 'cat' 'cat' 'dog' 'dog' 'dog' 'dog' 'cat' 'cat' 'cat' 'dog' 'dog' 'dog'\n",
            " 'cat' 'cat' 'cat' 'dog' 'cat' 'dog' 'dog' 'dog' 'cat' 'dog' 'dog' 'cat'\n",
            " 'dog' 'cat' 'dog' 'dog' 'cat' 'cat' 'cat' 'cat' 'cat' 'cat' 'dog' 'cat'\n",
            " 'cat' 'cat' 'dog' 'cat' 'dog' 'cat' 'cat' 'cat' 'cat' 'dog' 'dog' 'cat'\n",
            " 'cat' 'cat' 'cat' 'dog' 'cat' 'cat' 'dog' 'cat' 'cat' 'dog' 'dog' 'cat'\n",
            " 'dog' 'dog' 'cat' 'dog' 'cat' 'dog' 'dog' 'cat' 'dog' 'cat' 'cat' 'dog'\n",
            " 'dog' 'dog' 'cat' 'dog' 'cat' 'cat' 'dog' 'cat' 'dog' 'cat' 'cat' 'cat'\n",
            " 'dog' 'cat' 'cat' 'cat' 'dog' 'cat' 'dog' 'cat' 'cat' 'cat' 'dog' 'cat'\n",
            " 'dog' 'dog' 'dog' 'dog' 'cat' 'dog' 'cat' 'dog' 'cat' 'dog' 'dog' 'cat'\n",
            " 'cat' 'dog' 'cat' 'cat' 'cat' 'cat' 'cat' 'cat' 'cat' 'cat' 'cat' 'dog'\n",
            " 'dog' 'dog' 'cat' 'cat' 'dog' 'cat' 'dog' 'dog' 'dog' 'dog' 'cat' 'cat'\n",
            " 'dog' 'dog' 'cat' 'cat' 'cat' 'cat' 'dog' 'cat' 'cat' 'cat' 'cat' 'cat'\n",
            " 'dog' 'dog' 'dog' 'cat' 'dog' 'dog' 'cat' 'cat' 'cat' 'cat' 'dog' 'dog'\n",
            " 'dog' 'cat' 'dog' 'dog' 'cat' 'dog' 'dog' 'dog' 'dog' 'cat' 'dog' 'cat'\n",
            " 'cat' 'dog' 'dog' 'cat' 'cat' 'cat' 'dog' 'cat' 'cat' 'dog' 'dog' 'cat'\n",
            " 'cat' 'cat' 'cat' 'cat' 'cat' 'cat' 'cat' 'cat' 'dog' 'cat' 'dog' 'cat'\n",
            " 'dog' 'dog' 'dog' 'cat' 'dog' 'cat' 'cat' 'cat' 'dog' 'cat' 'cat' 'dog'\n",
            " 'dog' 'dog' 'cat' 'dog' 'dog' 'dog' 'cat' 'cat' 'cat' 'cat' 'cat' 'cat'\n",
            " 'cat' 'dog' 'cat' 'cat' 'dog' 'cat' 'cat' 'dog' 'dog' 'cat' 'cat' 'cat'\n",
            " 'cat' 'cat' 'dog' 'dog' 'dog' 'cat' 'cat' 'cat' 'dog' 'dog' 'cat' 'cat'\n",
            " 'dog' 'cat' 'dog' 'cat' 'cat' 'cat' 'cat' 'dog' 'cat' 'dog' 'cat' 'cat'\n",
            " 'cat' 'cat' 'dog' 'cat' 'dog' 'dog' 'dog' 'cat' 'cat' 'dog' 'dog' 'cat'\n",
            " 'dog' 'cat' 'cat' 'cat' 'dog' 'cat' 'cat' 'cat' 'cat' 'cat' 'dog' 'cat'\n",
            " 'dog' 'cat' 'dog' 'dog' 'dog' 'cat' 'cat' 'dog' 'cat' 'cat' 'dog' 'dog'\n",
            " 'cat' 'cat' 'cat' 'cat' 'cat' 'cat' 'dog' 'cat' 'dog' 'dog' 'cat' 'cat'\n",
            " 'cat' 'dog' 'cat' 'dog' 'cat' 'dog' 'cat' 'cat' 'dog' 'dog' 'cat' 'cat'\n",
            " 'dog' 'cat' 'cat' 'cat']\n"
          ]
        }
      ]
    },
    {
      "cell_type": "code",
      "source": [
        "# Add predictions to the ‘prediction’ column in the test dataframe\n",
        "df_test['id','prediction'] = predictions\n",
        "\n",
        "# Saved test dataframe with predictions to a .csv file\n",
        "df_test.to_csv('/content/test-predictions.csv', index=False)"
      ],
      "metadata": {
        "id": "jcgrgkmyE7C2"
      },
      "execution_count": 27,
      "outputs": []
    },
    {
      "cell_type": "code",
      "source": [
        "import json\n",
        "\n",
        "import pandas as pd\n",
        "\n",
        "test_file_path = \"data/test-predictions.csv\"\n",
        "df_test = pd.read_csv('/content/test-predictions.csv')\n",
        "df_test = df_test[[\"id\", \"prediction\"]]\n",
        "\n",
        "data = []\n",
        "for index, row in df_test.iterrows():\n",
        "    data.append({'id': row['id'], 'prediction': row['prediction']})\n",
        "\n",
        "print(data[0:5])\n",
        "\n",
        "submission_file_path = \"submission.json\"\n",
        "with open(submission_file_path, 'w') as fp:\n",
        "    fp.write('\\n'.join(json.dumps(i) for i in data))\n"
      ],
      "metadata": {
        "colab": {
          "base_uri": "https://localhost:8080/"
        },
        "id": "TIOvLWjsLTBf",
        "outputId": "7561b452-9d6a-4cfb-d3c3-e8833e3ecc14"
      },
      "execution_count": 25,
      "outputs": [
        {
          "output_type": "stream",
          "name": "stdout",
          "text": [
            "[{'id': 1, 'prediction': 'dog'}, {'id': 2, 'prediction': 'cat'}, {'id': 3, 'prediction': 'cat'}, {'id': 4, 'prediction': 'cat'}, {'id': 5, 'prediction': 'cat'}]\n"
          ]
        }
      ]
    },
    {
      "cell_type": "markdown",
      "source": [
        "**Results**\n",
        "\n",
        "|Model | Accuracy |\n",
        "|------|--------------------|\n",
        "|M1 - SVM   |0.52%|\n",
        "|M2 - SVM   |0.51%|\n",
        "|M3 - SVM   |0.00%|\n",
        "|M4 - Decision Tree  | 0.55% |\n",
        "|M5 - Random Forest   | 0.69% |"
      ],
      "metadata": {
        "id": "T1Ro7jSoa0h-"
      }
    },
    {
      "cell_type": "markdown",
      "source": [
        "Conclusion:\n",
        "\n",
        "Three models were tested: SVM, Decision Tree, and Random Forest Classifier. The SVM, which has a linear kernel, is known for its high performance, making it ideal for our data. However, its performance was insufficient, with an accuracy rate of 51.6%. The Decision Tree provided understanding but was at risk of delivering a decent outcome, as evidenced by an accuracy of 55.2%.\n",
        "\n",
        "Our top model, the Random Forest Classifier, used a collection of decision trees to decrease the risk of overfitting. It scored 69.3% accuracy, greatly surpassing the other models. This higher outcome is due to the ensemble's capacity to capture nonlinear patterns while being less influenced by data noise.\n",
        "\n"
      ],
      "metadata": {
        "id": "re-HSPdvadTR"
      }
    }
  ],
  "metadata": {
    "colab": {
      "provenance": []
    },
    "kernelspec": {
      "display_name": "Python 3",
      "name": "python3"
    },
    "language_info": {
      "name": "python"
    }
  },
  "nbformat": 4,
  "nbformat_minor": 0
}